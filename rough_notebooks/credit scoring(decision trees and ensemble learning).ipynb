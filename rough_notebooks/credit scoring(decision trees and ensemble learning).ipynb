{
 "cells": [
  {
   "cell_type": "markdown",
   "id": "60d281e2",
   "metadata": {},
   "source": [
    "## Data preparation and EDA"
   ]
  },
  {
   "cell_type": "markdown",
   "id": "08c52fda",
   "metadata": {},
   "source": [
    "In this section i clean and prepare the dataset for the model which involves the following steps:\n",
    "\n",
    "- Download the data from the given link.\n",
    "- Reformat categorical columns (status, home, marital, records, and job) by mapping with appropriate values.\n",
    "- Replace the maximum value of income, assests, and debt columns with NaNs.\n",
    "- Replace the NaNs in the dataframe with 0 (will be shown in the next lesson).\n",
    "- Extract only those rows in the column status who are either ok or default as value.\n",
    "- Split the data in a two-step process which finally leads to the distribution of 60% train, 20% validation, and 20% test sets with random seed to 11.\n",
    "- Prepare target variable status by converting it from categorical to binary, where 0 represents ok and 1 represents default.\n",
    "- Finally delete the target variable from the train/val/test dataframe.\n"
   ]
  },
  {
   "cell_type": "code",
   "execution_count": null,
   "id": "f0053511",
   "metadata": {},
   "outputs": [],
   "source": [
    "import pandas as pd\n",
    "import numpy as np\n",
    "import matplotlib.pyplot as plt "
   ]
  },
  {
   "cell_type": "code",
   "execution_count": null,
   "id": "e21d83be",
   "metadata": {},
   "outputs": [],
   "source": [
    "data=pd.read_csv(\"/Users/victoroshimua/Machine-learning-zoomcamp-/DATA/credit_risk.csv\")"
   ]
  },
  {
   "cell_type": "code",
   "execution_count": null,
   "id": "40285b0a",
   "metadata": {},
   "outputs": [],
   "source": [
    "data.head()"
   ]
  },
  {
   "cell_type": "code",
   "execution_count": null,
   "id": "91a2bb8e",
   "metadata": {},
   "outputs": [],
   "source": [
    "data.columns"
   ]
  },
  {
   "cell_type": "code",
   "execution_count": null,
   "id": "698bd6c5",
   "metadata": {},
   "outputs": [],
   "source": [
    "data.columns=data.columns.str.lower()"
   ]
  },
  {
   "cell_type": "code",
   "execution_count": null,
   "id": "c22d0b48",
   "metadata": {},
   "outputs": [],
   "source": [
    "data.status.value_counts()"
   ]
  },
  {
   "cell_type": "code",
   "execution_count": null,
   "id": "e1b4e959",
   "metadata": {},
   "outputs": [],
   "source": [
    "data[\"status\"]=data.status.map({1:\"ok\",2:\"default\",0:\"unk\"})\n",
    "data.head()"
   ]
  },
  {
   "cell_type": "code",
   "execution_count": null,
   "id": "10c71161",
   "metadata": {},
   "outputs": [],
   "source": [
    "home_values = {\n",
    "    1: 'rent',\n",
    "    2: 'owner',\n",
    "    3: 'private',\n",
    "    4: 'ignore',\n",
    "    5: 'parents',\n",
    "    6: 'other',\n",
    "    0: 'unk'\n",
    "}\n",
    "\n",
    "data.home = data.home.map(home_values)\n",
    "\n",
    "marital_values = {\n",
    "    1: 'single',\n",
    "    2: 'married',\n",
    "    3: 'widow',\n",
    "    4: 'separated',\n",
    "    5: 'divorced',\n",
    "    0: 'unk'\n",
    "}\n",
    "\n",
    "data.marital = data.marital.map(marital_values)\n",
    "\n",
    "records_values = {\n",
    "    1: 'no',\n",
    "    2: 'yes',\n",
    "    0: 'unk'\n",
    "}\n",
    "\n",
    "data.records = data.records.map(records_values)\n",
    "\n",
    "job_values = {\n",
    "    1: 'fixed',\n",
    "    2: 'partime',\n",
    "    3: 'freelance',\n",
    "    4: 'others',\n",
    "    0: 'unk'\n",
    "}\n",
    "\n",
    "data.job = data.job.map(job_values)\n"
   ]
  },
  {
   "cell_type": "code",
   "execution_count": null,
   "id": "c4a72ff0",
   "metadata": {},
   "outputs": [],
   "source": [
    "data.head()"
   ]
  },
  {
   "cell_type": "code",
   "execution_count": null,
   "id": "e82533d3",
   "metadata": {},
   "outputs": [],
   "source": [
    "data.describe().round()"
   ]
  },
  {
   "cell_type": "code",
   "execution_count": null,
   "id": "339c8df8",
   "metadata": {},
   "outputs": [],
   "source": [
    "### according to the data description from where i downloaded it, 999999999 represents a mising value\n",
    "## To make it show.\n",
    "for c in [\"income\",\"assets\",\"debt\"]:\n",
    "    data[c] = data[c].replace(99999999,np.nan)\n"
   ]
  },
  {
   "cell_type": "code",
   "execution_count": null,
   "id": "eec954bf",
   "metadata": {},
   "outputs": [],
   "source": [
    "data.describe().round()"
   ]
  },
  {
   "cell_type": "code",
   "execution_count": null,
   "id": "61fd4f9a",
   "metadata": {},
   "outputs": [],
   "source": [
    "data.isnull().sum()"
   ]
  },
  {
   "cell_type": "code",
   "execution_count": null,
   "id": "477afa20",
   "metadata": {},
   "outputs": [],
   "source": [
    "data.status.value_counts()"
   ]
  },
  {
   "cell_type": "code",
   "execution_count": null,
   "id": "02de5f9b",
   "metadata": {},
   "outputs": [],
   "source": [
    "data=data[data.status != \"unk\"].reset_index(drop=True)"
   ]
  },
  {
   "cell_type": "code",
   "execution_count": null,
   "id": "cdf89950",
   "metadata": {},
   "outputs": [],
   "source": [
    "data.status.value_counts()"
   ]
  },
  {
   "cell_type": "code",
   "execution_count": null,
   "id": "24416f9c",
   "metadata": {},
   "outputs": [],
   "source": [
    "from sklearn.model_selection import train_test_split"
   ]
  },
  {
   "cell_type": "code",
   "execution_count": null,
   "id": "5d8a3811",
   "metadata": {},
   "outputs": [],
   "source": [
    "data[\"status\"]=(data[\"status\"]==\"default\").astype(int)\n",
    "data[\"status\"]"
   ]
  },
  {
   "cell_type": "code",
   "execution_count": null,
   "id": "3d35bce2",
   "metadata": {},
   "outputs": [],
   "source": [
    "data_full_train,data_test = train_test_split(data,test_size=0.2,random_state=11)\n",
    "data_train,data_val=train_test_split(data_full_train,test_size=0.25,random_state=11)\n",
    "len(data_train), len(data_val),len(data_test)"
   ]
  },
  {
   "cell_type": "code",
   "execution_count": null,
   "id": "3fe1a812",
   "metadata": {},
   "outputs": [],
   "source": [
    "data_train=data_train.reset_index(drop=True)\n",
    "data_test=data_test.reset_index(drop=True)\n",
    "data_val=data_val.reset_index(drop=True)"
   ]
  },
  {
   "cell_type": "code",
   "execution_count": null,
   "id": "742d474d",
   "metadata": {},
   "outputs": [],
   "source": [
    "data_train"
   ]
  },
  {
   "cell_type": "code",
   "execution_count": null,
   "id": "c98587e7",
   "metadata": {},
   "outputs": [],
   "source": [
    "Y_train=data_train[\"status\"].values\n",
    "Y_test=data_test[\"status\"].values\n",
    "Y_val=data_val[\"status\"].values"
   ]
  },
  {
   "cell_type": "code",
   "execution_count": null,
   "id": "d3bb2e83",
   "metadata": {},
   "outputs": [],
   "source": [
    "len(Y_test),len(Y_val)"
   ]
  },
  {
   "cell_type": "code",
   "execution_count": null,
   "id": "bea1eba1",
   "metadata": {},
   "outputs": [],
   "source": []
  },
  {
   "cell_type": "code",
   "execution_count": null,
   "id": "3dd478b4",
   "metadata": {},
   "outputs": [],
   "source": [
    "del data_train[\"status\"]\n",
    "del data_test[\"status\"]\n",
    "del data_val[\"status\"]"
   ]
  },
  {
   "cell_type": "code",
   "execution_count": null,
   "id": "fb24b27e",
   "metadata": {},
   "outputs": [],
   "source": [
    "data_train"
   ]
  },
  {
   "cell_type": "markdown",
   "id": "39a7121c",
   "metadata": {},
   "source": [
    "## Decision trees"
   ]
  },
  {
   "cell_type": "code",
   "execution_count": null,
   "id": "42074f1a",
   "metadata": {},
   "outputs": [],
   "source": [
    "def assess_risk(client):\n",
    "    if client['records'] == 'yes':\n",
    "        if client['job'] == 'parttime':\n",
    "            return 'default'\n",
    "        else:\n",
    "            return 'ok'\n",
    "    else:\n",
    "        if client['assets'] > 6000:\n",
    "            return 'ok'\n",
    "        else:\n",
    "            return 'default'\n",
    "# decision trees in without Scikit learn"
   ]
  },
  {
   "cell_type": "code",
   "execution_count": null,
   "id": "b888cd19",
   "metadata": {},
   "outputs": [],
   "source": [
    "dt=data_train.iloc[0].to_dict()\n",
    "assess_risk(dt)"
   ]
  },
  {
   "cell_type": "code",
   "execution_count": null,
   "id": "5b307c92",
   "metadata": {},
   "outputs": [],
   "source": [
    "for i in range(2672):\n",
    "    dt = data_train.iloc[i].to_dict()\n",
    "    risk_level = assess_risk(dt)\n",
    "    print(\"Risk level for client\", i+1, \":\", risk_level)\n"
   ]
  },
  {
   "cell_type": "code",
   "execution_count": null,
   "id": "83fa78a0",
   "metadata": {},
   "outputs": [],
   "source": [
    "#decision tree with scikit learn\n",
    "from sklearn.tree import DecisionTreeClassifier\n",
    "from sklearn.feature_extraction import DictVectorizer\n",
    "from sklearn.metrics import roc_auc_score\n",
    "from sklearn.tree import export_text"
   ]
  },
  {
   "cell_type": "code",
   "execution_count": null,
   "id": "eec31977",
   "metadata": {},
   "outputs": [],
   "source": [
    "train_dicts=data_train.fillna(0).to_dict(orient=\"records\")\n",
    "dv=DictVectorizer(sparse=False)\n",
    "dv.fit(train_dicts)\n",
    "X_train=dv.transform(train_dicts)\n"
   ]
  },
  {
   "cell_type": "code",
   "execution_count": null,
   "id": "d558bcd9",
   "metadata": {},
   "outputs": [],
   "source": [
    "\n",
    "dv.get_feature_names()"
   ]
  },
  {
   "cell_type": "code",
   "execution_count": null,
   "id": "8c5ee1ff",
   "metadata": {},
   "outputs": [],
   "source": []
  },
  {
   "cell_type": "code",
   "execution_count": null,
   "id": "38961581",
   "metadata": {},
   "outputs": [],
   "source": [
    "dt=DecisionTreeClassifier()\n",
    "dt.fit(X_train,Y_train)"
   ]
  },
  {
   "cell_type": "code",
   "execution_count": null,
   "id": "69230319",
   "metadata": {},
   "outputs": [],
   "source": [
    "val_dicts=data_val.fillna(0).to_dict(orient=\"records\")\n",
    "X_val=dv.transform(val_dicts)"
   ]
  },
  {
   "cell_type": "code",
   "execution_count": null,
   "id": "6746e29c",
   "metadata": {},
   "outputs": [],
   "source": [
    "y_pred=dt.predict_proba(X_val)[:,1]\n",
    "y_pred"
   ]
  },
  {
   "cell_type": "code",
   "execution_count": null,
   "id": "40a001b1",
   "metadata": {},
   "outputs": [],
   "source": [
    "roc_auc_score(Y_val,y_pred)\n",
    "#low score here "
   ]
  },
  {
   "cell_type": "code",
   "execution_count": null,
   "id": "f51b85bd",
   "metadata": {},
   "outputs": [],
   "source": [
    "## checking for roc_auc_score of the train data\n",
    "pred_1= dt.predict_proba(X_train)[:,1]\n",
    "roc_auc_score(Y_train,pred_1)"
   ]
  },
  {
   "cell_type": "markdown",
   "id": "a61569aa",
   "metadata": {},
   "source": [
    "## The model did learn well on the train data but failed to predict well on unseen data this is (OVERFITTING)"
   ]
  },
  {
   "cell_type": "code",
   "execution_count": null,
   "id": "fc939fae",
   "metadata": {},
   "outputs": [],
   "source": [
    "## To solve overfiting in decision trees, i have to change the number of trees or train a decision stump"
   ]
  },
  {
   "cell_type": "code",
   "execution_count": null,
   "id": "0f4aed15",
   "metadata": {},
   "outputs": [],
   "source": [
    "dtm=DecisionTreeClassifier(max_depth=3)\n",
    "dtm.fit(X_train,Y_train)\n",
    "y_pred=dtm.predict_proba(X_val)[:,1]\n",
    "y_pred"
   ]
  },
  {
   "cell_type": "code",
   "execution_count": null,
   "id": "a3963e5e",
   "metadata": {},
   "outputs": [],
   "source": [
    "roc_auc_score(Y_val,y_pred)"
   ]
  },
  {
   "cell_type": "code",
   "execution_count": null,
   "id": "96804d52",
   "metadata": {},
   "outputs": [],
   "source": [
    "pred_1= dtm.predict_proba(X_train)[:,1]\n",
    "roc_auc_score(Y_train,pred_1)"
   ]
  },
  {
   "cell_type": "code",
   "execution_count": null,
   "id": "2aadf506",
   "metadata": {},
   "outputs": [],
   "source": [
    "### here the model is better and does not over fit after changing the number of dept"
   ]
  },
  {
   "cell_type": "code",
   "execution_count": null,
   "id": "e9e26bec",
   "metadata": {},
   "outputs": [],
   "source": [
    "print(export_text(dt, feature_names=dv.get_feature_names()))\n",
    "### Decision trees with plenty layers"
   ]
  },
  {
   "cell_type": "code",
   "execution_count": null,
   "id": "0dc8fc45",
   "metadata": {},
   "outputs": [],
   "source": [
    "##decision tree with only three layers\n",
    "print(export_text(dtm, feature_names=dv.get_feature_names()))"
   ]
  },
  {
   "cell_type": "markdown",
   "id": "5990138c",
   "metadata": {},
   "source": [
    "### Decision trees parameter tuning"
   ]
  },
  {
   "cell_type": "markdown",
   "id": "77a66b86",
   "metadata": {},
   "source": [
    "* selecting max_depth = numbers of rules \n",
    "* selecting min_samples_leaf = numbers of samples in each leaf nodes\n",
    "###### These are the two best parameters for a Decision tree "
   ]
  },
  {
   "cell_type": "markdown",
   "id": "05942c71",
   "metadata": {},
   "source": [
    "###### selecting max_depth that brings higher accuracy"
   ]
  },
  {
   "cell_type": "code",
   "execution_count": null,
   "id": "54af4998",
   "metadata": {},
   "outputs": [],
   "source": [
    "for d in [1,2,3,4,5,6,7,10,15,20,None,100]:# setting figures for max_depth(none means any of number dept)\n",
    "    dtc=DecisionTreeClassifier(max_depth=d)\n",
    "    dtc.fit(X_train,Y_train)\n",
    "    \n",
    "    y_pred=dtc.predict_proba(X_val)[:,1]\n",
    "    auc=roc_auc_score(Y_val,y_pred)\n",
    "    \n",
    "    print(\"For Max_dept {d}, auc_score = {a}\".format(d=d,a=auc) )\n"
   ]
  },
  {
   "cell_type": "code",
   "execution_count": null,
   "id": "d393eaea",
   "metadata": {},
   "outputs": [],
   "source": [
    "## from here i can see the best parameter for max_depth is between 4 to 6,but 5 is the highest"
   ]
  },
  {
   "cell_type": "markdown",
   "id": "ccc51cc8",
   "metadata": {},
   "source": [
    "###### selecting min_sample_leaf and max_depth that brings higher accuracy"
   ]
  },
  {
   "cell_type": "code",
   "execution_count": null,
   "id": "7ac504bb",
   "metadata": {},
   "outputs": [],
   "source": [
    "scores = []\n",
    "\n",
    "for depth in [4, 5, 6]:\n",
    "    for s in [1, 5, 10, 15, 20, 500, 100, 200]:\n",
    "        dt = DecisionTreeClassifier(max_depth=depth, min_samples_leaf=s)\n",
    "        dt.fit(X_train, Y_train)\n",
    "\n",
    "        y_pred = dt.predict_proba(X_val)[:, 1]\n",
    "        auc = roc_auc_score(Y_val, y_pred)\n",
    "        \n",
    "        scores.append((depth, s, auc))"
   ]
  },
  {
   "cell_type": "code",
   "execution_count": null,
   "id": "8a254fec",
   "metadata": {},
   "outputs": [],
   "source": [
    "columns = ['max_depth', 'min_samples_leaf', 'auc']\n",
    "df_scores = pd.DataFrame(scores, columns=columns)\n",
    "df_scores"
   ]
  },
  {
   "cell_type": "code",
   "execution_count": null,
   "id": "dc6e657c",
   "metadata": {},
   "outputs": [],
   "source": [
    "### to know the parameter with the higest accuracy using pivot tables\n",
    "df_scores_pivot = df_scores.pivot(index='min_samples_leaf', columns=['max_depth'], values=['auc'])\n",
    "df_scores_pivot.round(3)"
   ]
  },
  {
   "cell_type": "code",
   "execution_count": null,
   "id": "df8c6cc0",
   "metadata": {},
   "outputs": [],
   "source": [
    "import seaborn as sns\n",
    "sns.heatmap(df_scores_pivot, annot=True, fmt=\".3f\")"
   ]
  },
  {
   "cell_type": "code",
   "execution_count": null,
   "id": "b7ee5342",
   "metadata": {},
   "outputs": [],
   "source": [
    "### from the pivot table it can be seen that the parameters with the highest roc_auc score is max_depth=6 and min_samples_leaf=15"
   ]
  },
  {
   "cell_type": "code",
   "execution_count": null,
   "id": "4eacbbd9",
   "metadata": {},
   "outputs": [],
   "source": [
    "# using the best parameters to tune the model\n",
    "dt=DecisionTreeClassifier(max_depth=6,min_samples_leaf=15)\n",
    "dt.fit(X_train, Y_train)\n",
    "print(export_text(dt, feature_names=dv.get_feature_names()))"
   ]
  },
  {
   "cell_type": "markdown",
   "id": "8dde5394",
   "metadata": {},
   "source": [
    "### Ensemble and random forest "
   ]
  },
  {
   "cell_type": "code",
   "execution_count": null,
   "id": "57a40448",
   "metadata": {},
   "outputs": [],
   "source": [
    "from sklearn.ensemble import RandomForestClassifier\n"
   ]
  },
  {
   "cell_type": "code",
   "execution_count": null,
   "id": "e8195313",
   "metadata": {},
   "outputs": [],
   "source": [
    "rf=RandomForestClassifier(n_estimators=10)"
   ]
  },
  {
   "cell_type": "code",
   "execution_count": null,
   "id": "cfe30d9d",
   "metadata": {},
   "outputs": [],
   "source": [
    "rf.fit(X_train,Y_train)"
   ]
  },
  {
   "cell_type": "code",
   "execution_count": null,
   "id": "68512042",
   "metadata": {},
   "outputs": [],
   "source": [
    "y_pred=rf.predict_proba(X_val)[:,1]"
   ]
  },
  {
   "cell_type": "code",
   "execution_count": null,
   "id": "747ce1dd",
   "metadata": {},
   "outputs": [],
   "source": [
    "score=roc_auc_score(Y_val,y_pred)"
   ]
  },
  {
   "cell_type": "code",
   "execution_count": null,
   "id": "9591b9d4",
   "metadata": {},
   "outputs": [],
   "source": [
    "score"
   ]
  },
  {
   "cell_type": "markdown",
   "id": "fee02a95",
   "metadata": {},
   "source": [
    "#### Random forest parameter tuning\n",
    "* max_depth\t\n",
    "* n_estimators\n",
    "* min_sample_leafs"
   ]
  },
  {
   "cell_type": "code",
   "execution_count": null,
   "id": "72f26a17",
   "metadata": {},
   "outputs": [],
   "source": [
    "# using different extimators\n",
    "scores = []\n",
    "\n",
    "for n in range(10, 201, 10):\n",
    "    rf = RandomForestClassifier(n_estimators=n, random_state=1)\n",
    "    rf.fit(X_train, Y_train)\n",
    "\n",
    "    y_pred = rf.predict_proba(X_val)[:, 1]\n",
    "    auc = roc_auc_score(Y_val, y_pred)\n",
    "    \n",
    "    scores.append((n, auc))"
   ]
  },
  {
   "cell_type": "code",
   "execution_count": null,
   "id": "11fb04e2",
   "metadata": {},
   "outputs": [],
   "source": [
    "df_scores.head()"
   ]
  },
  {
   "cell_type": "code",
   "execution_count": null,
   "id": "02800d66",
   "metadata": {},
   "outputs": [],
   "source": [
    "df_scores = pd.DataFrame(scores, columns=['n_estimators', 'auc'])\n",
    "plt.plot(df_scores.n_estimators, df_scores.auc)\n",
    "plt.xlabel(\"number of trees \")\n",
    "plt.ylabel(\"auc\")\n",
    "plt.show()\n"
   ]
  },
  {
   "cell_type": "code",
   "execution_count": null,
   "id": "fd811559",
   "metadata": {},
   "outputs": [],
   "source": [
    "### using different max depth\n",
    "scores = []\n",
    "\n",
    "for d in [5, 10, 15]:\n",
    "    for n in range(10, 201, 10):\n",
    "        rf = RandomForestClassifier(n_estimators=n,\n",
    "                                    max_depth=d,\n",
    "                                    random_state=1)\n",
    "        rf.fit(X_train, Y_train)\n",
    "\n",
    "        y_pred = rf.predict_proba(X_val)[:, 1]\n",
    "        auc = roc_auc_score(Y_val, y_pred)\n",
    "\n",
    "        scores.append((d, n, auc))\n",
    "columns = ['max_depth', 'n_estimators', 'auc']\n",
    "df_scores = pd.DataFrame(scores, columns=columns)\n"
   ]
  },
  {
   "cell_type": "code",
   "execution_count": null,
   "id": "54c961f0",
   "metadata": {},
   "outputs": [],
   "source": [
    "columns = ['max_depth', 'n_estimators', 'auc']\n",
    "df_scores = pd.DataFrame(scores, columns=columns)\n",
    "df_scores"
   ]
  },
  {
   "cell_type": "code",
   "execution_count": null,
   "id": "cd0aa11d",
   "metadata": {},
   "outputs": [],
   "source": [
    "for d in [5, 10, 15]:\n",
    "    df_subset = df_scores[df_scores.max_depth == d]\n",
    "    \n",
    "    plt.plot(df_subset.n_estimators, df_subset.auc,\n",
    "             label='max_depth=%d' % d)\n",
    "\n",
    "plt.legend()"
   ]
  },
  {
   "cell_type": "code",
   "execution_count": null,
   "id": "74ecd757",
   "metadata": {},
   "outputs": [],
   "source": [
    "### best max dept\n",
    "max_depth=10"
   ]
  },
  {
   "cell_type": "code",
   "execution_count": null,
   "id": "c8460f87",
   "metadata": {},
   "outputs": [],
   "source": [
    "scores = []\n",
    "\n",
    "for s in [1, 3, 5, 10, 50]:\n",
    "    for n in range(10, 201, 10):\n",
    "        rf = RandomForestClassifier(n_estimators=n,\n",
    "                                    max_depth=max_depth,\n",
    "                                    min_samples_leaf=s,\n",
    "                                    random_state=1)\n",
    "        rf.fit(X_train, Y_train)\n",
    "\n",
    "        y_pred = rf.predict_proba(X_val)[:, 1]\n",
    "        auc = roc_auc_score(Y_val, y_pred)\n",
    "\n",
    "        scores.append((s, n, auc))\n"
   ]
  },
  {
   "cell_type": "code",
   "execution_count": null,
   "id": "4de78275",
   "metadata": {},
   "outputs": [],
   "source": [
    "columns = ['min_samples_leaf', 'n_estimators', 'auc']\n",
    "df_scores = pd.DataFrame(scores, columns=columns)\n",
    "df_scores.head(1)"
   ]
  },
  {
   "cell_type": "code",
   "execution_count": null,
   "id": "b7b4a45e",
   "metadata": {},
   "outputs": [],
   "source": [
    "colors = ['black', 'blue', 'orange', 'red', 'grey']\n",
    "values = [1, 3, 5, 10, 50]\n",
    "\n",
    "for s, col in zip(values, colors):\n",
    "    df_subset = df_scores[df_scores.min_samples_leaf == s]\n",
    "    \n",
    "    plt.plot(df_subset.n_estimators, df_subset.auc,\n",
    "             color=col,\n",
    "             label='min_samples_leaf=%d' % s)\n",
    "\n",
    "plt.legend()"
   ]
  },
  {
   "cell_type": "code",
   "execution_count": null,
   "id": "f08e931f",
   "metadata": {},
   "outputs": [],
   "source": [
    "### best min_samples_leaf\n",
    "min_samples_leaf = 3\n"
   ]
  },
  {
   "cell_type": "code",
   "execution_count": null,
   "id": "86fd2af1",
   "metadata": {},
   "outputs": [],
   "source": [
    "###using the best parameters\n",
    "rf = RandomForestClassifier(n_estimators=200,\n",
    "                            max_depth=max_depth,\n",
    "                            min_samples_leaf=min_samples_leaf,\n",
    "                            random_state=1)\n",
    "rf.fit(X_train, Y_train)\n",
    "RandomForestClassifier(max_depth=10, min_samples_leaf=3, n_estimators=200,\n",
    "                       random_state=1)"
   ]
  },
  {
   "cell_type": "markdown",
   "id": "6dc86bc5",
   "metadata": {},
   "source": [
    "Other useful parametes:\n",
    "* max_features\n",
    "* bootstrap\n"
   ]
  },
  {
   "cell_type": "markdown",
   "id": "d598f0b5",
   "metadata": {},
   "source": [
    "### Gradient boosting and Xgboost"
   ]
  },
  {
   "cell_type": "code",
   "execution_count": null,
   "id": "3ad10c00",
   "metadata": {},
   "outputs": [],
   "source": [
    "!pip install xgboost"
   ]
  },
  {
   "cell_type": "code",
   "execution_count": null,
   "id": "7220e1f6",
   "metadata": {},
   "outputs": [],
   "source": [
    "import xgboost as xgb"
   ]
  },
  {
   "cell_type": "code",
   "execution_count": null,
   "id": "965f2b51",
   "metadata": {},
   "outputs": [],
   "source": [
    "features=dv.get_feature_names()\n",
    "d_train=xgb.DMatrix(X_train,label=Y_train,feature_names=features)"
   ]
  },
  {
   "cell_type": "code",
   "execution_count": null,
   "id": "69b4eab9",
   "metadata": {},
   "outputs": [],
   "source": [
    "d_val=xgb.DMatrix(X_val,label=Y_val,feature_names=features)"
   ]
  },
  {
   "cell_type": "code",
   "execution_count": null,
   "id": "1edfb956",
   "metadata": {},
   "outputs": [],
   "source": [
    "# to know more about the parameters check the xgboost documentation \n",
    "xgb_params = {\n",
    "    'eta': 0.3, \n",
    "    'max_depth': 6,\n",
    "    'min_child_weight': 1,\n",
    "    \n",
    "    'objective': 'binary:logistic',\n",
    "    'nthread': 8,\n",
    "    \n",
    "    'seed': 1,\n",
    "    'verbosity': 1,\n",
    "}\n",
    "\n",
    "model = xgb.train(xgb_params, d_train, num_boost_round=10)\n"
   ]
  },
  {
   "cell_type": "code",
   "execution_count": null,
   "id": "99a5cfe8",
   "metadata": {},
   "outputs": [],
   "source": [
    "y_pred=model.predict(d_val)"
   ]
  },
  {
   "cell_type": "code",
   "execution_count": null,
   "id": "a23804c5",
   "metadata": {},
   "outputs": [],
   "source": [
    "roc_auc_score(Y_val,y_pred)"
   ]
  },
  {
   "cell_type": "code",
   "execution_count": null,
   "id": "6e9d27c4",
   "metadata": {},
   "outputs": [],
   "source": [
    "%%capture output"
   ]
  },
  {
   "cell_type": "code",
   "execution_count": null,
   "id": "64cb3d2b",
   "metadata": {},
   "outputs": [],
   "source": [
    "watchlist = [(d_train, 'train'), (d_val, 'val')]\n",
    "\n",
    "xgb_params = {\n",
    "    'eta': 0.3, \n",
    "    'max_depth': 6,\n",
    "    'min_child_weight': 1,\n",
    "    \n",
    "    'objective': 'binary:logistic',\n",
    "    'eval_metric': 'auc',\n",
    "\n",
    "    'nthread': 8,\n",
    "    'seed': 1,\n",
    "    'verbosity': 1,\n",
    "}\n",
    "\n",
    "model = xgb.train(xgb_params, d_train, num_boost_round=200,\n",
    "                  verbose_eval=5,\n",
    "                  evals=watchlist)\n",
    "s = output.stdout\n",
    "print(s[:200])"
   ]
  },
  {
   "cell_type": "markdown",
   "id": "e4472925",
   "metadata": {},
   "source": [
    "###### could not continue because my jupyter notebook fails to run the capture magic funtion, i wil come bact to it later"
   ]
  },
  {
   "cell_type": "markdown",
   "id": "03dad2b2",
   "metadata": {},
   "source": [
    "### Selecting the final model\n",
    "* After all the training i will select between decision tree,random forest or gradient boost based on thier roc score after using the best parameter tuning \n",
    "* Then train final model with the entire training dataset(df_full_train)\n",
    "* save the model\n"
   ]
  },
  {
   "cell_type": "code",
   "execution_count": null,
   "id": "f65286e2",
   "metadata": {},
   "outputs": [],
   "source": [
    "# best decision tree\n",
    "dt = DecisionTreeClassifier(max_depth=6, min_samples_leaf=15)\n",
    "dt.fit(X_train, Y_train)"
   ]
  },
  {
   "cell_type": "code",
   "execution_count": null,
   "id": "ce178405",
   "metadata": {},
   "outputs": [],
   "source": [
    "y_pred=dt.predict_proba(X_val)[:,1]\n",
    "roc_auc_score(Y_val,y_pred)"
   ]
  },
  {
   "cell_type": "code",
   "execution_count": null,
   "id": "0e6b89ce",
   "metadata": {},
   "outputs": [],
   "source": [
    "## best random forest\n",
    "rf = RandomForestClassifier(n_estimators=200,\n",
    "                            max_depth=10,\n",
    "                            min_samples_leaf=3,\n",
    "                            random_state=1)\n",
    "rf.fit(X_train, Y_train)"
   ]
  },
  {
   "cell_type": "code",
   "execution_count": null,
   "id": "363eca6a",
   "metadata": {},
   "outputs": [],
   "source": [
    "y_pred=rf.predict_proba(X_val)[:,1]\n",
    "roc_auc_score(Y_val,y_pred)"
   ]
  },
  {
   "cell_type": "code",
   "execution_count": null,
   "id": "21179598",
   "metadata": {},
   "outputs": [],
   "source": [
    "## best Xgboost model\n",
    "xgb_params = {\n",
    "    'eta': 0.1, \n",
    "    'max_depth': 3,\n",
    "    'min_child_weight': 1,\n",
    "\n",
    "    'objective': 'binary:logistic',\n",
    "    'eval_metric': 'auc',\n",
    "\n",
    "    'nthread': 8,\n",
    "    'seed': 1,\n",
    "    'verbosity': 1,\n",
    "}\n",
    "\n",
    "model = xgb.train(xgb_params, d_train, num_boost_round=175)\n"
   ]
  },
  {
   "cell_type": "code",
   "execution_count": null,
   "id": "b51b63ad",
   "metadata": {},
   "outputs": [],
   "source": [
    "y_pred=model.predict(d_val)\n",
    "roc_auc_score(Y_val,y_pred)"
   ]
  },
  {
   "cell_type": "markdown",
   "id": "ebba3dbd",
   "metadata": {},
   "source": [
    "### from here i can see the best performing model is the Xgboost model"
   ]
  },
  {
   "cell_type": "markdown",
   "id": "e0661325",
   "metadata": {},
   "source": [
    "## Next i will train the full train dataset(data_full_train) with xgboost model(best model)"
   ]
  },
  {
   "cell_type": "code",
   "execution_count": null,
   "id": "806ee571",
   "metadata": {},
   "outputs": [],
   "source": [
    "data_full_train"
   ]
  },
  {
   "cell_type": "code",
   "execution_count": null,
   "id": "2bbf7640",
   "metadata": {},
   "outputs": [],
   "source": [
    "data_full_train = data_full_train.reset_index(drop=True)\n",
    "y_full_train = (data_full_train.status == 'default').astype(int).values\n",
    "del data_full_train['status']\n",
    "## reset index and prepare the features and target"
   ]
  },
  {
   "cell_type": "code",
   "execution_count": null,
   "id": "afecdb9f",
   "metadata": {},
   "outputs": [],
   "source": [
    "dicts_full_train = data_full_train.to_dict(orient='records')\n",
    "dv = DictVectorizer(sparse=False)\n",
    "X_full_train = dv.fit_transform(dicts_full_train)\n",
    "## feature matrix(one hot encoding )"
   ]
  },
  {
   "cell_type": "code",
   "execution_count": null,
   "id": "c2cb34c4",
   "metadata": {},
   "outputs": [],
   "source": [
    "dicts_test = data_test.to_dict(orient='records')\n",
    "X_test = dv.transform(dicts_test)"
   ]
  },
  {
   "cell_type": "code",
   "execution_count": null,
   "id": "82cb4b55",
   "metadata": {},
   "outputs": [],
   "source": [
    "dfulltrain = xgb.DMatrix(X_full_train, label=y_full_train,\n",
    "                    feature_names=dv.get_feature_names())"
   ]
  },
  {
   "cell_type": "code",
   "execution_count": null,
   "id": "4cc7d0c9",
   "metadata": {},
   "outputs": [],
   "source": [
    "dtest = xgb.DMatrix(X_test, feature_names=dv.get_feature_names())\n"
   ]
  },
  {
   "cell_type": "code",
   "execution_count": null,
   "id": "2004efc2",
   "metadata": {},
   "outputs": [],
   "source": [
    "xgb_params = {\n",
    "    'eta': 0.1, \n",
    "    'max_depth': 3,\n",
    "    'min_child_weight': 1,\n",
    "\n",
    "    'objective': 'binary:logistic',\n",
    "    'eval_metric': 'auc',\n",
    "\n",
    "    'nthread': 8,\n",
    "    'seed': 1,\n",
    "    'verbosity': 1,\n",
    "}\n",
    "\n"
   ]
  },
  {
   "cell_type": "code",
   "execution_count": null,
   "id": "93e044f8",
   "metadata": {},
   "outputs": [],
   "source": [
    "model = xgb.train(xgb_params, dfulltrain, num_boost_round=175)\n"
   ]
  },
  {
   "cell_type": "code",
   "execution_count": null,
   "id": "03033fb2",
   "metadata": {},
   "outputs": [],
   "source": [
    "yy_pred = model.predict(dtest)\n",
    "roc_auc_score(Y_test, yy_pred)"
   ]
  },
  {
   "cell_type": "code",
   "execution_count": null,
   "id": "6a72c1b1",
   "metadata": {},
   "outputs": [],
   "source": []
  },
  {
   "cell_type": "code",
   "execution_count": null,
   "id": "1ba9673c",
   "metadata": {},
   "outputs": [],
   "source": []
  }
 ],
 "metadata": {
  "kernelspec": {
   "display_name": "Python 3 (ipykernel)",
   "language": "python",
   "name": "python3"
  },
  "language_info": {
   "codemirror_mode": {
    "name": "ipython",
    "version": 3
   },
   "file_extension": ".py",
   "mimetype": "text/x-python",
   "name": "python",
   "nbconvert_exporter": "python",
   "pygments_lexer": "ipython3",
   "version": "3.9.12"
  }
 },
 "nbformat": 4,
 "nbformat_minor": 5
}
